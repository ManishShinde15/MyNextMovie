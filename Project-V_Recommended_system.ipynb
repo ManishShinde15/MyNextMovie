{
 "cells": [
  {
   "cell_type": "code",
   "execution_count": 1,
   "id": "920091ee-eabf-46af-a401-2f2a5e7061bc",
   "metadata": {},
   "outputs": [],
   "source": [
    "#Import required libraries \n",
    "import pandas as pd \n",
    "import matplotlib.pyplot as plt \n",
    "import seaborn as sns \n",
    "sns.set_style('white') #command from Seaborn to set the background style of your plots to a white background.\n"
   ]
  },
  {
   "cell_type": "code",
   "execution_count": 2,
   "id": "6868c704-8ced-4d05-ad30-4bb90ba350df",
   "metadata": {},
   "outputs": [],
   "source": [
    "plt.rcParams['font.size']=14\n",
    "plt.rcParams['axes.grid']=True\n",
    "plt.rcParams['figure.figsize']= (12, 5)"
   ]
  },
  {
   "cell_type": "code",
   "execution_count": 6,
   "id": "055e7401-5787-4c07-a5be-fe80351f9701",
   "metadata": {},
   "outputs": [
    {
     "data": {
      "text/html": [
       "<div>\n",
       "<style scoped>\n",
       "    .dataframe tbody tr th:only-of-type {\n",
       "        vertical-align: middle;\n",
       "    }\n",
       "\n",
       "    .dataframe tbody tr th {\n",
       "        vertical-align: top;\n",
       "    }\n",
       "\n",
       "    .dataframe thead th {\n",
       "        text-align: right;\n",
       "    }\n",
       "</style>\n",
       "<table border=\"1\" class=\"dataframe\">\n",
       "  <thead>\n",
       "    <tr style=\"text-align: right;\">\n",
       "      <th></th>\n",
       "      <th>userId</th>\n",
       "      <th>movieId</th>\n",
       "      <th>rating</th>\n",
       "      <th>timestamp</th>\n",
       "    </tr>\n",
       "  </thead>\n",
       "  <tbody>\n",
       "    <tr>\n",
       "      <th>0</th>\n",
       "      <td>1</td>\n",
       "      <td>16</td>\n",
       "      <td>4.0</td>\n",
       "      <td>1217897793</td>\n",
       "    </tr>\n",
       "    <tr>\n",
       "      <th>1</th>\n",
       "      <td>1</td>\n",
       "      <td>24</td>\n",
       "      <td>1.5</td>\n",
       "      <td>1217895807</td>\n",
       "    </tr>\n",
       "    <tr>\n",
       "      <th>2</th>\n",
       "      <td>1</td>\n",
       "      <td>32</td>\n",
       "      <td>4.0</td>\n",
       "      <td>1217896246</td>\n",
       "    </tr>\n",
       "    <tr>\n",
       "      <th>3</th>\n",
       "      <td>1</td>\n",
       "      <td>47</td>\n",
       "      <td>4.0</td>\n",
       "      <td>1217896556</td>\n",
       "    </tr>\n",
       "    <tr>\n",
       "      <th>4</th>\n",
       "      <td>1</td>\n",
       "      <td>50</td>\n",
       "      <td>4.0</td>\n",
       "      <td>1217896523</td>\n",
       "    </tr>\n",
       "  </tbody>\n",
       "</table>\n",
       "</div>"
      ],
      "text/plain": [
       "   userId  movieId  rating   timestamp\n",
       "0       1       16     4.0  1217897793\n",
       "1       1       24     1.5  1217895807\n",
       "2       1       32     4.0  1217896246\n",
       "3       1       47     4.0  1217896556\n",
       "4       1       50     4.0  1217896523"
      ]
     },
     "execution_count": 6,
     "metadata": {},
     "output_type": "execute_result"
    }
   ],
   "source": [
    "#Get the data \n",
    "column_names = ['userId','movieId', 'rating', 'timestamp'] \n",
    "df = pd.read_csv('ratings.csv') \n",
    "\n",
    "\n",
    "  \n",
    "#Check the head of the data \n",
    "df.head() "
   ]
  },
  {
   "cell_type": "code",
   "execution_count": 7,
   "id": "905daef3-d91a-4fe7-9cbf-8355f34cab08",
   "metadata": {},
   "outputs": [
    {
     "data": {
      "text/plain": [
       "(105339, 4)"
      ]
     },
     "execution_count": 7,
     "metadata": {},
     "output_type": "execute_result"
    }
   ],
   "source": [
    "df.shape"
   ]
  },
  {
   "cell_type": "code",
   "execution_count": 8,
   "id": "adb93ac0-ffa7-4221-9f9e-a4bb4981448c",
   "metadata": {},
   "outputs": [
    {
     "data": {
      "text/plain": [
       "userId         668\n",
       "movieId      10325\n",
       "rating          10\n",
       "timestamp    84686\n",
       "dtype: int64"
      ]
     },
     "execution_count": 8,
     "metadata": {},
     "output_type": "execute_result"
    }
   ],
   "source": [
    "df.nunique()"
   ]
  },
  {
   "cell_type": "code",
   "execution_count": 9,
   "id": "e85ca05d-8703-4d42-86ef-2e9d322e284c",
   "metadata": {},
   "outputs": [
    {
     "data": {
      "text/plain": [
       "6897100"
      ]
     },
     "execution_count": 9,
     "metadata": {},
     "output_type": "execute_result"
    }
   ],
   "source": [
    "668*10325"
   ]
  },
  {
   "cell_type": "code",
   "execution_count": 10,
   "id": "2f8f4424-eb3c-4589-8674-7842954e7bb4",
   "metadata": {},
   "outputs": [
    {
     "data": {
      "text/html": [
       "<div>\n",
       "<style scoped>\n",
       "    .dataframe tbody tr th:only-of-type {\n",
       "        vertical-align: middle;\n",
       "    }\n",
       "\n",
       "    .dataframe tbody tr th {\n",
       "        vertical-align: top;\n",
       "    }\n",
       "\n",
       "    .dataframe thead th {\n",
       "        text-align: right;\n",
       "    }\n",
       "</style>\n",
       "<table border=\"1\" class=\"dataframe\">\n",
       "  <thead>\n",
       "    <tr style=\"text-align: right;\">\n",
       "      <th></th>\n",
       "      <th>movieId</th>\n",
       "      <th>title</th>\n",
       "      <th>genres</th>\n",
       "    </tr>\n",
       "  </thead>\n",
       "  <tbody>\n",
       "    <tr>\n",
       "      <th>0</th>\n",
       "      <td>1</td>\n",
       "      <td>Toy Story (1995)</td>\n",
       "      <td>Adventure|Animation|Children|Comedy|Fantasy</td>\n",
       "    </tr>\n",
       "    <tr>\n",
       "      <th>1</th>\n",
       "      <td>2</td>\n",
       "      <td>Jumanji (1995)</td>\n",
       "      <td>Adventure|Children|Fantasy</td>\n",
       "    </tr>\n",
       "    <tr>\n",
       "      <th>2</th>\n",
       "      <td>3</td>\n",
       "      <td>Grumpier Old Men (1995)</td>\n",
       "      <td>Comedy|Romance</td>\n",
       "    </tr>\n",
       "    <tr>\n",
       "      <th>3</th>\n",
       "      <td>4</td>\n",
       "      <td>Waiting to Exhale (1995)</td>\n",
       "      <td>Comedy|Drama|Romance</td>\n",
       "    </tr>\n",
       "    <tr>\n",
       "      <th>4</th>\n",
       "      <td>5</td>\n",
       "      <td>Father of the Bride Part II (1995)</td>\n",
       "      <td>Comedy</td>\n",
       "    </tr>\n",
       "  </tbody>\n",
       "</table>\n",
       "</div>"
      ],
      "text/plain": [
       "   movieId                               title  \\\n",
       "0        1                    Toy Story (1995)   \n",
       "1        2                      Jumanji (1995)   \n",
       "2        3             Grumpier Old Men (1995)   \n",
       "3        4            Waiting to Exhale (1995)   \n",
       "4        5  Father of the Bride Part II (1995)   \n",
       "\n",
       "                                        genres  \n",
       "0  Adventure|Animation|Children|Comedy|Fantasy  \n",
       "1                   Adventure|Children|Fantasy  \n",
       "2                               Comedy|Romance  \n",
       "3                         Comedy|Drama|Romance  \n",
       "4                                       Comedy  "
      ]
     },
     "execution_count": 10,
     "metadata": {},
     "output_type": "execute_result"
    }
   ],
   "source": [
    "#Check out all the movies and their respective IDs \n",
    "movie_titles = pd.read_csv('movies.csv') \n",
    "movie_titles.head() "
   ]
  },
  {
   "cell_type": "code",
   "execution_count": 12,
   "id": "b069066c-fe83-4a75-9198-c06c24fdfeeb",
   "metadata": {},
   "outputs": [
    {
     "data": {
      "text/html": [
       "<div>\n",
       "<style scoped>\n",
       "    .dataframe tbody tr th:only-of-type {\n",
       "        vertical-align: middle;\n",
       "    }\n",
       "\n",
       "    .dataframe tbody tr th {\n",
       "        vertical-align: top;\n",
       "    }\n",
       "\n",
       "    .dataframe thead th {\n",
       "        text-align: right;\n",
       "    }\n",
       "</style>\n",
       "<table border=\"1\" class=\"dataframe\">\n",
       "  <thead>\n",
       "    <tr style=\"text-align: right;\">\n",
       "      <th></th>\n",
       "      <th>userId</th>\n",
       "      <th>movieId</th>\n",
       "      <th>rating</th>\n",
       "      <th>timestamp</th>\n",
       "      <th>title</th>\n",
       "      <th>genres</th>\n",
       "    </tr>\n",
       "  </thead>\n",
       "  <tbody>\n",
       "    <tr>\n",
       "      <th>0</th>\n",
       "      <td>1</td>\n",
       "      <td>16</td>\n",
       "      <td>4.0</td>\n",
       "      <td>1217897793</td>\n",
       "      <td>Casino (1995)</td>\n",
       "      <td>Crime|Drama</td>\n",
       "    </tr>\n",
       "    <tr>\n",
       "      <th>1</th>\n",
       "      <td>9</td>\n",
       "      <td>16</td>\n",
       "      <td>4.0</td>\n",
       "      <td>842686699</td>\n",
       "      <td>Casino (1995)</td>\n",
       "      <td>Crime|Drama</td>\n",
       "    </tr>\n",
       "    <tr>\n",
       "      <th>2</th>\n",
       "      <td>12</td>\n",
       "      <td>16</td>\n",
       "      <td>1.5</td>\n",
       "      <td>1144396284</td>\n",
       "      <td>Casino (1995)</td>\n",
       "      <td>Crime|Drama</td>\n",
       "    </tr>\n",
       "    <tr>\n",
       "      <th>3</th>\n",
       "      <td>24</td>\n",
       "      <td>16</td>\n",
       "      <td>4.0</td>\n",
       "      <td>963468757</td>\n",
       "      <td>Casino (1995)</td>\n",
       "      <td>Crime|Drama</td>\n",
       "    </tr>\n",
       "    <tr>\n",
       "      <th>4</th>\n",
       "      <td>29</td>\n",
       "      <td>16</td>\n",
       "      <td>3.0</td>\n",
       "      <td>836820223</td>\n",
       "      <td>Casino (1995)</td>\n",
       "      <td>Crime|Drama</td>\n",
       "    </tr>\n",
       "  </tbody>\n",
       "</table>\n",
       "</div>"
      ],
      "text/plain": [
       "   userId  movieId  rating   timestamp          title       genres\n",
       "0       1       16     4.0  1217897793  Casino (1995)  Crime|Drama\n",
       "1       9       16     4.0   842686699  Casino (1995)  Crime|Drama\n",
       "2      12       16     1.5  1144396284  Casino (1995)  Crime|Drama\n",
       "3      24       16     4.0   963468757  Casino (1995)  Crime|Drama\n",
       "4      29       16     3.0   836820223  Casino (1995)  Crime|Drama"
      ]
     },
     "execution_count": 12,
     "metadata": {},
     "output_type": "execute_result"
    }
   ],
   "source": [
    "#Merging both the datasets\n",
    "data = pd.merge(df, movie_titles, on='movieId') \n",
    "data.head()"
   ]
  },
  {
   "cell_type": "code",
   "execution_count": 14,
   "id": "8d6d831f-97f3-4ea9-aa59-0c2089c8838a",
   "metadata": {},
   "outputs": [
    {
     "data": {
      "text/plain": [
       "genres\n",
       "Comedy|Crime|Drama|Fantasy                        5.0\n",
       "Action|Adventure|Comedy|Crime|Romance|Thriller    5.0\n",
       "Crime|Mystery|War                                 5.0\n",
       "Animation|Fantasy|Sci-Fi|Thriller                 5.0\n",
       "Action|Comedy|Drama|Romance                       5.0\n",
       "Name: rating, dtype: float64"
      ]
     },
     "execution_count": 14,
     "metadata": {},
     "output_type": "execute_result"
    }
   ],
   "source": [
    "#Calculate mean rating of all movies \n",
    "data.groupby('genres')['rating'].mean().sort_values(ascending=False).head() "
   ]
  },
  {
   "cell_type": "code",
   "execution_count": 15,
   "id": "aeb7668d-131b-486f-9bc4-7bdb522f2f25",
   "metadata": {},
   "outputs": [
    {
     "data": {
      "text/plain": [
       "genres\n",
       "Drama             7678\n",
       "Comedy            6676\n",
       "Comedy|Romance    3733\n",
       "Drama|Romance     3407\n",
       "Comedy|Drama      3101\n",
       "Name: rating, dtype: int64"
      ]
     },
     "execution_count": 15,
     "metadata": {},
     "output_type": "execute_result"
    }
   ],
   "source": [
    "#Calculate count rating of all movies \n",
    "data.groupby('genres')['rating'].count().sort_values(ascending=False).head() "
   ]
  },
  {
   "cell_type": "code",
   "execution_count": 16,
   "id": "372b1a7a-1889-4b2a-b412-cbd1f0aa0fb0",
   "metadata": {},
   "outputs": [
    {
     "data": {
      "text/html": [
       "<div>\n",
       "<style scoped>\n",
       "    .dataframe tbody tr th:only-of-type {\n",
       "        vertical-align: middle;\n",
       "    }\n",
       "\n",
       "    .dataframe tbody tr th {\n",
       "        vertical-align: top;\n",
       "    }\n",
       "\n",
       "    .dataframe thead th {\n",
       "        text-align: right;\n",
       "    }\n",
       "</style>\n",
       "<table border=\"1\" class=\"dataframe\">\n",
       "  <thead>\n",
       "    <tr style=\"text-align: right;\">\n",
       "      <th></th>\n",
       "      <th>rating</th>\n",
       "      <th>num of ratings</th>\n",
       "    </tr>\n",
       "    <tr>\n",
       "      <th>genres</th>\n",
       "      <th></th>\n",
       "      <th></th>\n",
       "    </tr>\n",
       "  </thead>\n",
       "  <tbody>\n",
       "    <tr>\n",
       "      <th>(no genres listed)</th>\n",
       "      <td>3.071429</td>\n",
       "      <td>7</td>\n",
       "    </tr>\n",
       "    <tr>\n",
       "      <th>Action</th>\n",
       "      <td>2.836406</td>\n",
       "      <td>217</td>\n",
       "    </tr>\n",
       "    <tr>\n",
       "      <th>Action|Adventure</th>\n",
       "      <td>3.739804</td>\n",
       "      <td>613</td>\n",
       "    </tr>\n",
       "    <tr>\n",
       "      <th>Action|Adventure|Animation</th>\n",
       "      <td>4.125000</td>\n",
       "      <td>12</td>\n",
       "    </tr>\n",
       "    <tr>\n",
       "      <th>Action|Adventure|Animation|Children</th>\n",
       "      <td>3.550000</td>\n",
       "      <td>10</td>\n",
       "    </tr>\n",
       "  </tbody>\n",
       "</table>\n",
       "</div>"
      ],
      "text/plain": [
       "                                       rating  num of ratings\n",
       "genres                                                       \n",
       "(no genres listed)                   3.071429               7\n",
       "Action                               2.836406             217\n",
       "Action|Adventure                     3.739804             613\n",
       "Action|Adventure|Animation           4.125000              12\n",
       "Action|Adventure|Animation|Children  3.550000              10"
      ]
     },
     "execution_count": 16,
     "metadata": {},
     "output_type": "execute_result"
    }
   ],
   "source": [
    "#Creating dataframe with 'rating' count values \n",
    "ratings = pd.DataFrame(data.groupby('genres')['rating'].mean())  \n",
    "ratings['num of ratings'] = pd.DataFrame(data.groupby('genres')['rating'].count())   \n",
    "ratings.head() "
   ]
  },
  {
   "cell_type": "code",
   "execution_count": 17,
   "id": "c9e013b7-e605-43ff-a451-0bc8dc2b2981",
   "metadata": {},
   "outputs": [
    {
     "data": {
      "image/png": "[encoded data removed]",
      "text/plain": [
       "<Figure size 1200x500 with 1 Axes>"
      ]
     },
     "metadata": {},
     "output_type": "display_data"
    }
   ],
   "source": [
    "#Plot graph of 'num of ratings column' \n",
    "ratings['num of ratings'].hist(bins = 70) \n",
    "plt.show()"
   ]
  },
  {
   "cell_type": "code",
   "execution_count": 19,
   "id": "5b3852ed-47f1-4646-9ab8-9617e1d97aa2",
   "metadata": {},
   "outputs": [
    {
     "data": {
      "text/html": [
       "<div>\n",
       "<style scoped>\n",
       "    .dataframe tbody tr th:only-of-type {\n",
       "        vertical-align: middle;\n",
       "    }\n",
       "\n",
       "    .dataframe tbody tr th {\n",
       "        vertical-align: top;\n",
       "    }\n",
       "\n",
       "    .dataframe thead th {\n",
       "        text-align: right;\n",
       "    }\n",
       "</style>\n",
       "<table border=\"1\" class=\"dataframe\">\n",
       "  <thead>\n",
       "    <tr style=\"text-align: right;\">\n",
       "      <th></th>\n",
       "      <th>userId</th>\n",
       "      <th>movieId</th>\n",
       "      <th>rating</th>\n",
       "      <th>timestamp</th>\n",
       "      <th>title</th>\n",
       "      <th>genres</th>\n",
       "    </tr>\n",
       "  </thead>\n",
       "  <tbody>\n",
       "    <tr>\n",
       "      <th>0</th>\n",
       "      <td>1</td>\n",
       "      <td>16</td>\n",
       "      <td>4.0</td>\n",
       "      <td>1217897793</td>\n",
       "      <td>Casino (1995)</td>\n",
       "      <td>Crime|Drama</td>\n",
       "    </tr>\n",
       "    <tr>\n",
       "      <th>1</th>\n",
       "      <td>9</td>\n",
       "      <td>16</td>\n",
       "      <td>4.0</td>\n",
       "      <td>842686699</td>\n",
       "      <td>Casino (1995)</td>\n",
       "      <td>Crime|Drama</td>\n",
       "    </tr>\n",
       "    <tr>\n",
       "      <th>2</th>\n",
       "      <td>12</td>\n",
       "      <td>16</td>\n",
       "      <td>1.5</td>\n",
       "      <td>1144396284</td>\n",
       "      <td>Casino (1995)</td>\n",
       "      <td>Crime|Drama</td>\n",
       "    </tr>\n",
       "    <tr>\n",
       "      <th>3</th>\n",
       "      <td>24</td>\n",
       "      <td>16</td>\n",
       "      <td>4.0</td>\n",
       "      <td>963468757</td>\n",
       "      <td>Casino (1995)</td>\n",
       "      <td>Crime|Drama</td>\n",
       "    </tr>\n",
       "    <tr>\n",
       "      <th>4</th>\n",
       "      <td>29</td>\n",
       "      <td>16</td>\n",
       "      <td>3.0</td>\n",
       "      <td>836820223</td>\n",
       "      <td>Casino (1995)</td>\n",
       "      <td>Crime|Drama</td>\n",
       "    </tr>\n",
       "  </tbody>\n",
       "</table>\n",
       "</div>"
      ],
      "text/plain": [
       "   userId  movieId  rating   timestamp          title       genres\n",
       "0       1       16     4.0  1217897793  Casino (1995)  Crime|Drama\n",
       "1       9       16     4.0   842686699  Casino (1995)  Crime|Drama\n",
       "2      12       16     1.5  1144396284  Casino (1995)  Crime|Drama\n",
       "3      24       16     4.0   963468757  Casino (1995)  Crime|Drama\n",
       "4      29       16     3.0   836820223  Casino (1995)  Crime|Drama"
      ]
     },
     "execution_count": 19,
     "metadata": {},
     "output_type": "execute_result"
    }
   ],
   "source": [
    "data.head()"
   ]
  },
  {
   "cell_type": "code",
   "execution_count": 80,
   "id": "05d2199c-8d28-4fcd-b529-f1151149d4cb",
   "metadata": {},
   "outputs": [
    {
     "name": "stdout",
     "output_type": "stream",
     "text": [
      "        userId  movieId  rating   timestamp                        title              genres\n",
      "0            1       16     4.0  1217897793                Casino (1995)         Crime|Drama\n",
      "1            9       16     4.0   842686699                Casino (1995)         Crime|Drama\n",
      "2           12       16     1.5  1144396284                Casino (1995)         Crime|Drama\n",
      "3           24       16     4.0   963468757                Casino (1995)         Crime|Drama\n",
      "4           29       16     3.0   836820223                Casino (1995)         Crime|Drama\n",
      "...        ...      ...     ...         ...                          ...                 ...\n",
      "105334     668   140098     2.5  1450415424                Runoff (2015)               Drama\n",
      "105335     668   140816     2.5  1443288791             Tangerine (2015)        Comedy|Drama\n",
      "105336     668   141472     2.5  1442679119  The 50 Year Argument (2014)  (no genres listed)\n",
      "105337     668   142488     4.0  1451535844             Spotlight (2015)            Thriller\n",
      "105338     668   142507     3.5  1451535889        Pawn Sacrifice (2015)               Drama\n",
      "\n",
      "[105339 rows x 6 columns]\n"
     ]
    }
   ],
   "source": [
    "#To print Output data in one line \n",
    "pd.set_option('expand_frame_repr', False)\n",
    "#To print data frame\n",
    "df = pd.DataFrame(data)\n",
    "print(df)"
   ]
  },
  {
   "cell_type": "code",
   "execution_count": 78,
   "id": "91f66eac-48a9-4293-8d72-41b678263eaf",
   "metadata": {},
   "outputs": [],
   "source": [
    "#First Scenario:\n",
    "\n",
    "def recommend_movies(genre, min_reviews, num_recommendations):\n",
    "    # Filter movies based on genre and minimum number of reviews\n",
    "    filtered_movies = df[(df['genres'] == genre) & (df['timestamp'] >= min_reviews)]\n",
    "    \n",
    "    # Sort movies by rating in descending order\n",
    "    sorted_movies = filtered_movies.sort_values(by='rating', ascending=False)\n",
    "    \n",
    "    # Select top N movies\n",
    "    top_movies = sorted_movies.head(num_recommendations)\n",
    "    \n",
    "    # Create a DataFrame for the output\n",
    "    recommended_movies = pd.DataFrame({\n",
    "        'S.No': range(1, num_recommendations + 1),\n",
    "        'Movie Title': top_movies['title'].values\n",
    "    })\n",
    "    \n",
    "    return recommended_movies\n"
   ]
  },
  {
   "cell_type": "code",
   "execution_count": 79,
   "id": "e1bf674e-bd77-4cbb-88bb-df9ff8fa5894",
   "metadata": {},
   "outputs": [
    {
     "name": "stdout",
     "output_type": "stream",
     "text": [
      "   S.No                            Movie Title\n",
      "0     1  Ace Ventura: When Nature Calls (1995)\n",
      "1     2        Ferris Bueller's Day Off (1986)\n",
      "2     3              Johnny Dangerously (1984)\n"
     ]
    }
   ],
   "source": [
    "# Example usage\n",
    "genre = 'Comedy'\n",
    "min_review = 100\n",
    "num_recommendations = 3\n",
    "recommended_movies = recommend_movies(genre, min_review, num_recommendations)\n",
    "print(recommended_movies)"
   ]
  },
  {
   "cell_type": "code",
   "execution_count": 82,
   "id": "7b5c3956-64f1-44f5-adbb-c5f42873b383",
   "metadata": {},
   "outputs": [],
   "source": [
    "#Second Scenario :\n",
    "def recommend_similar_movies(movie_title, num_recommendations):\n",
    "    # Get the genre of the given movie\n",
    "    movie_genre = df[df['title'] == movie_title]['genres'].values[0]\n",
    "    \n",
    "    # Find movies with the same genre\n",
    "    similar_movies = df[df['genres'] == movie_genre]\n",
    "    \n",
    "    # Sort movies by rating in descending order\n",
    "    sorted_movies = similar_movies.sort_values(by='rating', ascending=False)\n",
    "    \n",
    "    # Exclude the given movie from the recommendations\n",
    "    sorted_movies = sorted_movies[sorted_movies['title'] != movie_title]\n",
    "    \n",
    "    # Select top N movies\n",
    "    #top_movies = sorted_movies.head(num_recommendations)\n",
    "    top_movies = sorted_movies.drop_duplicates(subset='title').head(num_recommendations)\n",
    "\n",
    "      # Create a DataFrame for the output\n",
    "    recommended_movies = pd.DataFrame({\n",
    "        'S.No': range(1, num_recommendations + 1),\n",
    "        'Movie Title': top_movies['title'].values\n",
    "            })\n",
    "\n",
    "\n",
    "    return recommended_movies\n",
    "\n",
    "\n"
   ]
  },
  {
   "cell_type": "code",
   "execution_count": 83,
   "id": "67dfbb4d-3626-4055-9bd7-28e9eb2c4fd8",
   "metadata": {},
   "outputs": [
    {
     "name": "stdout",
     "output_type": "stream",
     "text": [
      "   S.No                       Movie Title\n",
      "0     1                Toy Story 2 (1999)\n",
      "1     2  Emperor's New Groove, The (2000)\n",
      "2     3             Monsters, Inc. (2001)\n"
     ]
    }
   ],
   "source": [
    "# Example usage\n",
    "movie_title = 'Toy Story (1995)'\n",
    "num_recommendations = 3\n",
    "recommended_movies = recommend_similar_movies(movie_title, num_recommendations)\n",
    "print(recommended_movies)"
   ]
  },
  {
   "cell_type": "code",
   "execution_count": 74,
   "id": "f78e54c9-7093-4b1b-a7e3-49f4380426e9",
   "metadata": {},
   "outputs": [],
   "source": [
    "#Scenario Three:\n",
    "from sklearn.metrics.pairwise import cosine_similarity\n",
    "\n",
    "# Create user-item matrix\n",
    "user_item_matrix = df.pivot_table(index='userId', columns='movieId', values='rating').fillna(0)\n",
    "\n",
    "# Calculate cosine similarity between users\n",
    "user_similarity = cosine_similarity(user_item_matrix)\n",
    "\n",
    "# Convert similarity matrix to DataFrame\n",
    "user_similarity_df = pd.DataFrame(user_similarity, index=user_item_matrix.index, columns=user_item_matrix.index)\n",
    "\n",
    "def recommend_movies(target_user, num_similar_users, num_recommendations):\n",
    "    # Find K similar users\n",
    "    similar_users = user_similarity_df[target_user].sort_values(ascending=False).index[1:num_similar_users+1]\n",
    "    \n",
    "    # Aggregate ratings of similar users\n",
    "    similar_users_ratings = user_item_matrix.loc[similar_users].mean(axis=0)\n",
    "    \n",
    "    # Filter out movies already rated by the target user\n",
    "    target_user_ratings = user_item_matrix.loc[target_user]\n",
    "    unrated_movies = similar_users_ratings[target_user_ratings == 0]\n",
    "    \n",
    "    # Recommend top N movies\n",
    "    top_movies = unrated_movies.sort_values(ascending=False).head(num_recommendations)\n",
    "    \n",
    "    # Get movie titles for the recommended movies\n",
    "    top_movie_titles = df[df['movieId'].isin(top_movies.index)][['movieId', 'title']].drop_duplicates().set_index('movieId').loc[top_movies.index]\n",
    "    \n",
    "    # Create a DataFrame for the output\n",
    "    recommended_movies = pd.DataFrame({\n",
    "        'S.No': range(1, num_recommendations + 1),\n",
    "        'Movie Title': top_movie_titles['title'].values\n",
    "    })\n",
    "    \n",
    "    return recommended_movies\n"
   ]
  },
  {
   "cell_type": "code",
   "execution_count": 75,
   "id": "a5e34a1a-b747-42bd-b702-ec42aa49da39",
   "metadata": {},
   "outputs": [
    {
     "name": "stdout",
     "output_type": "stream",
     "text": [
      "   S.No                                Movie Title\n",
      "0     1  Indiana Jones and the Last Crusade (1989)\n",
      "1     2                           Toy Story (1995)\n",
      "2     3                            Die Hard (1988)\n",
      "3     4                              Aliens (1986)\n",
      "4     5                             Memento (2000)\n"
     ]
    }
   ],
   "source": [
    "# Example usage\n",
    "target_user = 1\n",
    "num_similar_users = 100\n",
    "num_recommendations = 5\n",
    "\n",
    "recommended_movies = recommend_movies(target_user, num_similar_users, num_recommendations)\n",
    "print(recommended_movies)"
   ]
  },
  {
   "cell_type": "code",
   "execution_count": null,
   "id": "682adf0c-cbdf-4fed-8304-1cc4097736d0",
   "metadata": {},
   "outputs": [],
   "source": []
  }
 ],
 "metadata": {
  "kernelspec": {
   "display_name": "Python 3 (ipykernel)",
   "language": "python",
   "name": "python3"
  },
  "language_info": {
   "codemirror_mode": {
    "name": "ipython",
    "version": 3
   },
   "file_extension": ".py",
   "mimetype": "text/x-python",
   "name": "python",
   "nbconvert_exporter": "python",
   "pygments_lexer": "ipython3",
   "version": "3.11.7"
  }
 },
 "nbformat": 4,
 "nbformat_minor": 5
}
